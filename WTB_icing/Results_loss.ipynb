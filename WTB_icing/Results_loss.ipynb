{
 "cells": [
  {
   "cell_type": "code",
   "execution_count": 1,
   "metadata": {},
   "outputs": [],
   "source": [
    "import numpy as np\n",
    "import matplotlib.pyplot as plt\n",
    "import matplotlib"
   ]
  },
  {
   "cell_type": "code",
   "execution_count": 20,
   "metadata": {},
   "outputs": [],
   "source": [
    "##### 定义图片上的字体\n",
    "font = {'family': 'Times New Roman',\n",
    "         'style': 'normal',\n",
    "         'weight': 'bold',\n",
    "        #'color':  'darkred', \n",
    "        'size': 12,\n",
    "        }\n",
    "matplotlib.rc('font', **font)"
   ]
  },
  {
   "cell_type": "code",
   "execution_count": 21,
   "metadata": {},
   "outputs": [],
   "source": [
    "train_loss = np.loadtxt(\"./results/train_Loss.txt\")\n",
    "test_loss = np.loadtxt(\"./results/test_Loss.txt\")"
   ]
  },
  {
   "cell_type": "code",
   "execution_count": 23,
   "metadata": {},
   "outputs": [
    {
     "data": {
      "image/png": "[encoded data removed]",
      "text/plain": [
       "<Figure size 432x288 with 1 Axes>"
      ]
     },
     "metadata": {
      "needs_background": "light"
     },
     "output_type": "display_data"
    }
   ],
   "source": [
    "x = np.linspace(0, 100, 100)\n",
    "plt.figure()\n",
    "# y_tick_marks = np.arange(R.shape[0])\n",
    "# x_tick_marks = np.arange(R.shape[1])\n",
    "# plt.imshow(R, interpolation='nearest', cmap=plt.cm.Blues)\n",
    "# plt.xticks(x_tick_marks)\n",
    "# plt.yticks(y_tick_marks)\n",
    "# plt.tight_layout()\n",
    "# plt.ylabel('Categories')\n",
    "# plt.xlabel('Attributes')\n",
    "# plt.savefig(\"./results/r_0.11.svg\")\n",
    "plt.plot(x, train_loss, label=\"train_loss\")\n",
    "plt.plot(x, test_loss, label=\"test_loss\")\n",
    "plt.legend()\n",
    "plt.ylabel('MSE loss')\n",
    "plt.xlabel('Training times')\n",
    "\n",
    "plt.savefig(\"./results/loss.svg\")\n",
    "plt.show()"
   ]
  },
  {
   "cell_type": "code",
   "execution_count": null,
   "metadata": {},
   "outputs": [],
   "source": []
  }
 ],
 "metadata": {
  "kernelspec": {
   "display_name": "Python 3",
   "language": "python",
   "name": "python3"
  },
  "language_info": {
   "codemirror_mode": {
    "name": "ipython",
    "version": 3
   },
   "file_extension": ".py",
   "mimetype": "text/x-python",
   "name": "python",
   "nbconvert_exporter": "python",
   "pygments_lexer": "ipython3",
   "version": "3.7.7"
  }
 },
 "nbformat": 4,
 "nbformat_minor": 4
}
